{
 "cells": [
  {
   "cell_type": "code",
   "execution_count": 24,
   "id": "dead5b0b",
   "metadata": {},
   "outputs": [
    {
     "name": "stdout",
     "output_type": "stream",
     "text": [
      "the sum of 100 and 99.3 is equal to 199.3\n"
     ]
    }
   ],
   "source": [
    "#Q1\n",
    "# This program will add two numbers\n",
    "\n",
    "numb1 = 100\n",
    "numb2 = 99.3\n",
    "\n",
    "# Add two numbers\n",
    "sum = numb1 + numb2\n",
    "\n",
    "# Display the sum\n",
    "print(f\"the sum of {numb1} and {numb2} is equal to {sum}\")"
   ]
  },
  {
   "cell_type": "code",
   "execution_count": 23,
   "id": "9813a8b3",
   "metadata": {},
   "outputs": [
    {
     "name": "stdout",
     "output_type": "stream",
     "text": [
      "Enter first number: 23.5\n",
      "Enter second number: 900\n",
      "the sum of 23.5 and 900 is equal to 923.5\n"
     ]
    }
   ],
   "source": [
    "# this program will add two numbers enterd by the user\n",
    "numb1 = input('Enter first number: ')\n",
    "numb2 = input('Enter second number: ')\n",
    "\n",
    "# Add two numbers\n",
    "sum = float(numb1) + float(numb2)\n",
    "\n",
    "# Display the sum of the two numbers\n",
    "print(f\"the sum of {numb1} and {numb2} is equal to {sum}\")"
   ]
  },
  {
   "cell_type": "code",
   "execution_count": 22,
   "id": "eb166d9a",
   "metadata": {},
   "outputs": [],
   "source": [
    "#Q2 \n",
    "fruitPrices = {'apples':2.00, 'oranges': 1.50, 'pears': 1.75,'limes':0.75,   \n",
    "               'strawberries':1.00}\n",
    "\n",
    "def buyLotsOfFruit(orderList):\n",
    "    ##    the orderList = List of (fruit, Cost)         \n",
    "    ## and Returns cost of fruits order\n",
    "\n",
    "    totalCost = 0.0 \n",
    "    for fruit,price in fruitPrices.items():\n",
    "        if fruit not in fruitPrices:\n",
    "            print ('your chosen fruit is not here! try onther one ')\n",
    "        else:\n",
    "            #totalCost = totalCost +fruitPrices[fruitPrices.index(fruit)].key() * price            \n",
    "            totalCost = totalCost +fruitPrices[fruit] * price\n",
    "\n",
    "    return totalCost"
   ]
  },
  {
   "cell_type": "code",
   "execution_count": 21,
   "id": "f3bdfa42",
   "metadata": {},
   "outputs": [
    {
     "data": {
      "text/plain": [
       "10.875"
      ]
     },
     "execution_count": 21,
     "metadata": {},
     "output_type": "execute_result"
    }
   ],
   "source": [
    "buyLotsOfFruit({'apples':2.00, 'oranges': 1.50, 'pears': 1.75,'limes':0.75})"
   ]
  }
 ],
 "metadata": {
  "kernelspec": {
   "display_name": "Python 3",
   "language": "python",
   "name": "python3"
  },
  "language_info": {
   "codemirror_mode": {
    "name": "ipython",
    "version": 3
   },
   "file_extension": ".py",
   "mimetype": "text/x-python",
   "name": "python",
   "nbconvert_exporter": "python",
   "pygments_lexer": "ipython3",
   "version": "3.8.8"
  },
  "varInspector": {
   "cols": {
    "lenName": 16,
    "lenType": 16,
    "lenVar": 40
   },
   "kernels_config": {
    "python": {
     "delete_cmd_postfix": "",
     "delete_cmd_prefix": "del ",
     "library": "var_list.py",
     "varRefreshCmd": "print(var_dic_list())"
    },
    "r": {
     "delete_cmd_postfix": ") ",
     "delete_cmd_prefix": "rm(",
     "library": "var_list.r",
     "varRefreshCmd": "cat(var_dic_list()) "
    }
   },
   "types_to_exclude": [
    "module",
    "function",
    "builtin_function_or_method",
    "instance",
    "_Feature"
   ],
   "window_display": false
  }
 },
 "nbformat": 4,
 "nbformat_minor": 5
}
