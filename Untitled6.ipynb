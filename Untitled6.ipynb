{
 "cells": [
  {
   "cell_type": "code",
   "execution_count": 7,
   "id": "c30558a8",
   "metadata": {},
   "outputs": [
    {
     "name": "stdout",
     "output_type": "stream",
     "text": [
      "the sum of 100 and 99.3 is equal to 199.3\n"
     ]
    }
   ],
   "source": [
    "# This program will add two numbers\n",
    "\n",
    "numb1 = 100\n",
    "numb2 = 99.3\n",
    "\n",
    "# Add two numbers\n",
    "sum = numb1 + numb2\n",
    "\n",
    "# Display the sum\n",
    "print(f\"the sum of {numb1} and {numb2} is equal to {sum}\")"
   ]
  },
  {
   "cell_type": "code",
   "execution_count": 8,
   "id": "cf0a97a8",
   "metadata": {},
   "outputs": [
    {
     "name": "stdout",
     "output_type": "stream",
     "text": [
      "Enter first number: 4334.1\n",
      "Enter second number: 1\n",
      "the sum of 4334.1 and 1 is equal to 4335.1\n"
     ]
    }
   ],
   "source": [
    "# this program will add two numbers enterd by the user\n",
    "numb1 = input('Enter first number: ')\n",
    "numb2 = input('Enter second number: ')\n",
    "\n",
    "# Add two numbers\n",
    "sum = float(numb1) + float(numb2)\n",
    "\n",
    "# Display the sum of the two numbers\n",
    "print(f\"the sum of {numb1} and {numb2} is equal to {sum}\")"
   ]
  }
 ],
 "metadata": {
  "kernelspec": {
   "display_name": "Python 3",
   "language": "python",
   "name": "python3"
  },
  "language_info": {
   "codemirror_mode": {
    "name": "ipython",
    "version": 3
   },
   "file_extension": ".py",
   "mimetype": "text/x-python",
   "name": "python",
   "nbconvert_exporter": "python",
   "pygments_lexer": "ipython3",
   "version": "3.8.8"
  },
  "varInspector": {
   "cols": {
    "lenName": 16,
    "lenType": 16,
    "lenVar": 40
   },
   "kernels_config": {
    "python": {
     "delete_cmd_postfix": "",
     "delete_cmd_prefix": "del ",
     "library": "var_list.py",
     "varRefreshCmd": "print(var_dic_list())"
    },
    "r": {
     "delete_cmd_postfix": ") ",
     "delete_cmd_prefix": "rm(",
     "library": "var_list.r",
     "varRefreshCmd": "cat(var_dic_list()) "
    }
   },
   "types_to_exclude": [
    "module",
    "function",
    "builtin_function_or_method",
    "instance",
    "_Feature"
   ],
   "window_display": false
  }
 },
 "nbformat": 4,
 "nbformat_minor": 5
}
